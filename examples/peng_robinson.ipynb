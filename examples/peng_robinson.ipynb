{
 "cells": [
  {
   "cell_type": "markdown",
   "metadata": {},
   "source": [
    "# Application of generalized (hyper-) dual numbers: Peng-Robinson Equation of State\n",
    "\n",
    "This notebook shows an example for the application of generalized dual numbers for equations of state.\n",
    "A [simple version](https://en.wikipedia.org/wiki/Equation_of_state#Peng%E2%80%93Robinson_equation_of_state) of the Peng-Robinson equation of state is used for demonstration purposes.\n",
    "\n",
    "## Contents <a class=\"anchor\" id=\"toc\"></a>\n",
    "\n",
    "- [Definition of the Equation of State as Python `class`](#python_class)\n",
    "- [Compute Pressure](#pressure)\n",
    "- [Fugacity](#fugacity)\n",
    "- [Critical Points](#critical_point)\n",
    "    - [Validation](#cp_validation)\n",
    "    - [$T_c$ of Binary Mixture](#cp_binary)\n",
    "- [Comparison to Numerical Derivatives](#comparison)\n",
    "    - [First Derivatives](#1st_derivatives)\n",
    "    - [Second Derivatives](#2nd_derivatives)\n",
    "- [Performance](#performance)"
   ]
  },
  {
   "cell_type": "code",
   "execution_count": 1,
   "metadata": {},
   "outputs": [],
   "source": [
    "# import everything from num_dual, import numpy and define some constants\n",
    "from num_dual import *\n",
    "import numpy as np\n",
    "\n",
    "RGAS = 1.380649e-23 * 6.02214076e23 # Gas constant in units of J/mol/K\n",
    "SQRT2 = np.sqrt(2)"
   ]
  },
  {
   "cell_type": "markdown",
   "metadata": {},
   "source": [
    "## Definition of the Equation of State as Python `class` <a class=\"anchor\" id=\"python_class\"></a> \n",
    "[↑ back to Contents](#toc)\n",
    "\n",
    "The following cell implements the Peng-Robinson equation of state as Python `class`.\n",
    "Inputs are\n",
    "\n",
    "- critical temperature, $T_c$, in units of Kelvin,\n",
    "- critical pressure, $p_c$, in units of bar,\n",
    "- the dimensionless acentric factor, $\\omega$, and\n",
    "- binary parameters for mixtures (optional).\n",
    "\n",
    "For mixtures, arrays of $T_c$, $p_c$, and $\\omega$ have to be provided.\n",
    "\n",
    "Once an instance of the equation of state is instanciated, the `helmholtz_energy` function can be evaluated for a given temperature, $T$, volume, $V$, and amount of substance, $\\mathbf{N}$.\n",
    "Using the `derivative` function from `num_dual`, inputs can be transformed to the respective dual numbers and partial derivatives can be computed."
   ]
  },
  {
   "cell_type": "code",
   "execution_count": 2,
   "metadata": {},
   "outputs": [],
   "source": [
    "class PengRobinson:\n",
    "    def __init__(self, critical_temperature, critical_pressure, acentric_factor, delta_ij=None):\n",
    "        \"\"\"Peng-Robinson Equation of State\n",
    "        \n",
    "        Parameters\n",
    "        ----------\n",
    "        critical_temperature : np.array[float]\n",
    "            critical temperature of each component in units of Kelvin.\n",
    "        critical_pressure : np.array[float]\n",
    "            critical pressure of each component in units of bar.\n",
    "        acentric_factor : np.array[float] \n",
    "            acentric factor of each component (dimensionless).\n",
    "        delta_ij : np.array[[float]], optional\n",
    "            binary parameters. Shape=[n, n], n = number of components.\n",
    "            defaults to zero for all binary interactions.\n",
    "            \n",
    "        Raises\n",
    "        ------\n",
    "        ValueError: if the input values have incompatible sizes.\n",
    "        \"\"\"\n",
    "        self.n = len(critical_temperature)\n",
    "        if len(set((len(critical_temperature), len(critical_pressure), len(acentric_factor)))) != 1:\n",
    "            raise ValueError(\"Input parameters must all have the same lenght.\")\n",
    "        \n",
    "        # for a pure substance, store values as floats\n",
    "        if isinstance(critical_temperature, np.ndarray) and self.n == 1:\n",
    "            self.tc = critical_temperature[0]\n",
    "            self.pc = critical_pressure[0]\n",
    "            self.omega = acentric_factor[0]\n",
    "        else:\n",
    "            self.tc = critical_temperature\n",
    "            self.pc = critical_pressure\n",
    "            self.omega = acentric_factor\n",
    "            \n",
    "        # [a / R] = m³ / mol / K\n",
    "        self.a_r = 0.45724 * RGAS * self.tc**2 / (1e5 * self.pc)\n",
    "        # [b] = m³ / mol\n",
    "        self.b = 0.0778 * RGAS * self.tc / (1e5 * self.pc)\n",
    "        self.delta_ij = np.zeros((self.n, self.n)) if delta_ij is None else delta_ij\n",
    "        self.kappa = 0.37464 + 1.54226 * self.omega - 0.26992 * self.omega**2\n",
    "    \n",
    "    def helmholtz_energy(self, temperature, volume, moles):\n",
    "        \"\"\"Return helmholtz energy in units of Joule/mol\n",
    "        \n",
    "        Parameters\n",
    "        ----------\n",
    "        temperature : float | any dual number\n",
    "            temperature in units of Kelvin.\n",
    "        volume : float | any dual number\n",
    "            volume in units of m³.\n",
    "        moles : np.array(float | any dual number) or List(float | any dual number)\n",
    "            amount of substance for each component in units of mole.\n",
    "            \n",
    "        Returns\n",
    "        -------\n",
    "        helmholtz_energy: float | any dual number\n",
    "            The return type depends on the input types.\n",
    "            \n",
    "        Raises\n",
    "        ------\n",
    "        ValueError : if the number of substances with which the equation of \n",
    "            state was defined is not equal to the size of `moles`.\n",
    "        \"\"\"\n",
    "        # transform scalar values and lists into numpy.ndarrays\n",
    "        if not isinstance(moles, np.ndarray):\n",
    "            moles = np.array(moles)\n",
    "        if moles.size != self.n:\n",
    "            raise ValueError(f\"Equation of state initialized for {self.n} component(s) but moles has length {len(moles)}!\")\n",
    "        \n",
    "        n = np.sum(moles)\n",
    "        x = moles / n\n",
    "        tr = temperature / self.tc\n",
    "        ak = ((1.0 - np.sqrt(tr)) * self.kappa + 1.0)**2 * self.a_r\n",
    "        ak_mix = 0.0\n",
    "        \n",
    "        # apply combination rule if mixture\n",
    "        if self.n > 1:\n",
    "            for i in range(self.n):\n",
    "                for j in range(self.n):\n",
    "                    ak_mix += np.sqrt(ak[i] * ak[j]) * (x[i] * x[j] * (1.0 - self.delta_ij[i, j]))\n",
    "        else:\n",
    "            ak_mix = ak\n",
    "            \n",
    "        b = np.sum(x * self.b)\n",
    "        v = volume\n",
    "        a = RGAS * temperature * n * (np.log(v / (v - b * n)) - ak_mix / (b * SQRT2 * 2.0 * temperature) * np.log((v * (SQRT2 - 1.0) + b * n) / (v * (SQRT2 + 1.0) - b * n)))\n",
    "        return a\n",
    "    \n",
    "    def pressure(self, temperature, volume, moles):\n",
    "        \"\"\"Analytic implementation of the pressure in units of Pa for the\n",
    "        Peng-Robinson equation of state. Used as a reference for the comparison\n",
    "        of different differentiation methods.\n",
    "        \n",
    "        Parameters\n",
    "        ----------\n",
    "        temperature : float | any dual number\n",
    "            temperature in units of Kelvin.\n",
    "        volume : float | any dual number\n",
    "            volume in units of m³.\n",
    "        moles : np.array(float | any dual numbe) or List(float | any dual number)\n",
    "            amount of substance for each component in units of mole.\n",
    "            \n",
    "        Returns\n",
    "        -------\n",
    "        pressure: float | any dual number\n",
    "            The return type depends on the input types.\n",
    "            \n",
    "        Raises\n",
    "        ------\n",
    "        ValueError : if the number of substances with which the equation of \n",
    "            state was defined is not equal to the size of `moles`.\n",
    "        \"\"\"\n",
    "        # transform scalar values and lists into numpy.ndarrays\n",
    "        if not isinstance(moles, np.ndarray):\n",
    "            moles = np.array(moles)\n",
    "        if moles.size != self.n:\n",
    "            raise ValueError(f\"Equation of state initialized for {self.n} component(s) but moles has length {len(moles)}!\")\n",
    "        \n",
    "        n = np.sum(moles)\n",
    "        x = moles / n\n",
    "        tr = temperature / self.tc\n",
    "        ak = ((1.0 - np.sqrt(tr)) * self.kappa + 1.0)**2 * self.a_r\n",
    "        ak_mix = 0.0\n",
    "        \n",
    "        # apply combination rule if mixture\n",
    "        if self.n > 1:\n",
    "            for i in range(0, self.n):\n",
    "                for j in range(0, self.n):\n",
    "                    ak_mix += np.sqrt(ak[i] * ak[j]) * (x[i] * x[j] * (1.0 - self.delta_ij[i, j]))\n",
    "        else:\n",
    "            ak_mix = ak\n",
    "            \n",
    "        b = np.sum(x * self.b)\n",
    "        v = volume\n",
    "        p = RGAS * (temperature * n / (v - b * n) - ak_mix * n**2 / (v**2 + 2 * b * v * n - (b * n)**2))\n",
    "        return p\n",
    "    \n",
    "    def dp_dv(self, temperature, volume, moles):\n",
    "        \"\"\"Analytic implementation of the volume derivative of the pressure in \n",
    "        units of Pa/m³ for the Peng-Robinson equation of state. Used as a \n",
    "        reference for the comparison of different differentiation methods.\n",
    "        \n",
    "        Parameters\n",
    "        ----------\n",
    "        temperature : float | any dual number\n",
    "            temperature in units of Kelvin.\n",
    "        volume : float | any dual number\n",
    "            volume in units of m³.\n",
    "        moles : np.array(float | any dual numbe) or List(float | any dual number)\n",
    "            amount of substance for each component in units of mole.\n",
    "            \n",
    "        Returns\n",
    "        -------\n",
    "        dp_dv: float | any dual number\n",
    "            The return type depends on the input types.\n",
    "            \n",
    "        Raises\n",
    "        ------\n",
    "        ValueError : if the number of substances with which the equation of \n",
    "            state was defined is not equal to the size of `moles`.\n",
    "        \"\"\"\n",
    "        # transform scalar values and lists into numpy.ndarrays\n",
    "        if not isinstance(moles, np.ndarray):\n",
    "            moles = np.array(moles)\n",
    "        if moles.size != self.n:\n",
    "            raise ValueError(f\"Equation of state initialized for {self.n} component(s) but moles has length {len(moles)}!\")\n",
    "        \n",
    "        n = np.sum(moles)\n",
    "        x = moles / n\n",
    "        tr = temperature / self.tc\n",
    "        ak = ((1.0 - np.sqrt(tr)) * self.kappa + 1.0)**2 * self.a_r\n",
    "        ak_mix = 0.0\n",
    "        \n",
    "        # apply combination rule if mixture\n",
    "        if self.n > 1:\n",
    "            for i in range(0, self.n):\n",
    "                for j in range(0, self.n):\n",
    "                    ak_mix += np.sqrt(ak[i] * ak[j]) * (x[i] * x[j] * (1.0 - self.delta_ij[i, j]))\n",
    "        else:\n",
    "            ak_mix = ak\n",
    "            \n",
    "        b = np.sum(x * self.b)\n",
    "        v = volume\n",
    "        dp_dv = RGAS * (-temperature * n / (v - b * n)**2 + 2 * ak_mix * n**2 * (v + b * n) / (v**2 + 2 * b * v * n - (b * n)**2)**2)\n",
    "        return dp_dv"
   ]
  },
  {
   "cell_type": "markdown",
   "metadata": {},
   "source": [
    "## Compute pressure <a class=\"anchor\" id=\"pressure\"></a>\n",
    "[↑ back to Contents](#toc)\n",
    "\n",
    "The equation of state object can be created using one or more components. Here we\n",
    "\n",
    "- define the equation of state for a single substance,\n",
    "- define temperature (in Kelvin), volume (in m³) and amount of substance (as array with size 1, in mole),\n",
    "- compute the pressure via the `pressure` method (which implements the analytical derivative), and\n",
    "- compute the pressure via dual numbers, using `derive1(v)` to create a `Dual64` for the volume as input to `helmholtz_energy`.\n",
    "\n",
    "We can then compare the resulting pressures."
   ]
  },
  {
   "cell_type": "code",
   "execution_count": 3,
   "metadata": {},
   "outputs": [
    {
     "name": "stdout",
     "output_type": "stream",
     "text": [
      "ideal gas pressure   : 831446.2618 Pa\n",
      "pressure (analytical): 392996.7935 Pa\n",
      "pressure (dual)      : 392996.7935 Pa\n",
      "relative deviation   : 5.924e-16 %\n"
     ]
    }
   ],
   "source": [
    "# create equation of state\n",
    "tc = np.array([523.0])\n",
    "pc = np.array([25.0])\n",
    "omega = np.array([0.2])\n",
    "\n",
    "pr = PengRobinson(tc, pc, omega)\n",
    "\n",
    "# create thermodynamic state\n",
    "t = 300.0\n",
    "v = 0.003\n",
    "n = np.array([1.0])\n",
    "ideal_gas_pressure = np.sum(n) * RGAS * t / v\n",
    "\n",
    "# analytical expression for pressure\n",
    "p_analytical = pr.pressure(t, v, n)\n",
    "# pressure using Dual64 for the volume\n",
    "p_dual = -pr.helmholtz_energy(t, derive1(v), n).first_derivative + ideal_gas_pressure\n",
    "\n",
    "print(f\"ideal gas pressure   : {ideal_gas_pressure:8.4f} Pa\")\n",
    "print(f\"pressure (analytical): {p_analytical:8.4f} Pa\")\n",
    "print(f\"pressure (dual)      : {p_dual:8.4f} Pa\")\n",
    "print(f\"relative deviation   : {np.abs(p_analytical - p_dual) / p_analytical:8.4g} %\")"
   ]
  },
  {
   "cell_type": "markdown",
   "metadata": {},
   "source": [
    "## Fugacity <a class=\"anchor\" id=\"fugacity\"></a>\n",
    "[↑ back to Contents](#toc)\n",
    "\n",
    "The helmholtz energy, entropy and pressure (or chemical potential) can all be computed in a single evaluation.\n",
    "The return value is then `HyperDual64` and the second (mixed) partial derivatives is evaluated automatically."
   ]
  },
  {
   "cell_type": "code",
   "execution_count": 4,
   "metadata": {},
   "outputs": [
    {
     "name": "stdout",
     "output_type": "stream",
     "text": [
      "Return value data type:  <class 'builtins.HyperDual64'>\n",
      "A          :  20.1683 kJ\n",
      "S          :  28.8785 J/K\n",
      "P          : 392.9968 kPa\n",
      "∂p/∂T=∂S/∂V:   0.8280 kPa/K\n"
     ]
    }
   ],
   "source": [
    "# thermodynamic state\n",
    "t = 300.0\n",
    "v = 3e-3\n",
    "n = np.array([1.0])\n",
    "\n",
    "dt, dv = derive2(t, v)\n",
    "da_dtdv = pr.helmholtz_energy(dt, dv, n)\n",
    "print(\"Return value data type: \", type(da_dtdv))\n",
    "print(f\"A          : {da_dtdv.value*1e-3:8.4f} kJ\")\n",
    "print(f\"S          : {-da_dtdv.first_derivative[0]:8.4f} J/K\")\n",
    "print(f\"P          : {(-da_dtdv.first_derivative[1] + ideal_gas_pressure)*1e-3:8.4f} kPa\")\n",
    "print(f\"∂p/∂T=∂S/∂V: {-da_dtdv.second_derivative*1e-3:8.4f} kPa/K\")"
   ]
  },
  {
   "cell_type": "markdown",
   "metadata": {},
   "source": [
    "The fugacity coefficient can be computed from derivatives with respect to the amount of substance per component."
   ]
  },
  {
   "cell_type": "code",
   "execution_count": 5,
   "metadata": {},
   "outputs": [
    {
     "name": "stdout",
     "output_type": "stream",
     "text": [
      "RT ln(φ) : 18853.7037 J/mol\n"
     ]
    }
   ],
   "source": [
    "p = -pr.helmholtz_energy(t, derive1(v), n).first_derivative + ideal_gas_pressure\n",
    "z = p * v / (RGAS * t) # compressibility\n",
    "d2a_dn2 = pr.helmholtz_energy(t, v, derive2(n))\n",
    "fugacity = d2a_dn2.first_derivative - np.log(z)\n",
    "\n",
    "print(f\"RT ln(φ) : {fugacity:8.4f} J/mol\")"
   ]
  },
  {
   "cell_type": "markdown",
   "metadata": {},
   "source": [
    "## Critical Points <a class=\"anchor\" id=\"critical_point\"></a>\n",
    "[↑ back to Contents](#toc)\n",
    "\n",
    "Dual numbers can be used to enhance existing methods for calculating critical points. The exact calculation of higher order derivatives is crucial in the context of critical points, as the third derivatives of the Helmholtz energy appear in the objective function (and not just in any Jacobian). The examples below demonstrate the implementation of the algorithm based on the approach by Heidemann, Khalil and Michelsen."
   ]
  },
  {
   "cell_type": "code",
   "execution_count": 6,
   "metadata": {},
   "outputs": [],
   "source": [
    "from scipy.optimize import fsolve\n",
    "from numpy.linalg import eig\n",
    "import matplotlib.pyplot as plt\n",
    "import seaborn as sns\n",
    "sns.set_context(\"talk\")\n",
    "sns.set_style(\"ticks\")\n",
    "sns.set_palette(\"Dark2\")\n",
    "\n",
    "def critical_point(equation_of_state, initial_temperature, initial_density, moles):\n",
    "    return fsolve(lambda x: objective_function(equation_of_state, *x, moles), [initial_temperature, initial_density])\n",
    "    \n",
    "def objective_function(equation_of_state, temperature, density, moles):\n",
    "    # transform scalar values and lists into numpy.ndarrays\n",
    "    if isinstance(moles, (float, int)):\n",
    "        moles = np.array([moles])\n",
    "    if not isinstance(moles, np.ndarray):\n",
    "        moles = np.array(moles)\n",
    "    if moles.size != equation_of_state.n:\n",
    "        raise ValueError(f\"Equation of state initialized for {equation_of_state.n} component(s) but moles has length {len(moles)}!\")\n",
    "\n",
    "    # calculate the M matrix\n",
    "    total_moles = sum(moles)\n",
    "    volume = total_moles / density\n",
    "    M = np.array(equation_of_state.helmholtz_energy(temperature, volume, derive2(moles)).second_derivative)\n",
    "    if equation_of_state.n == 1:\n",
    "        M = np.array([[M]])\n",
    "    for i in range(equation_of_state.n):\n",
    "        for j in range(equation_of_state.n):\n",
    "            M[i,j] *= np.sqrt(moles[i] * moles[j])\n",
    "\n",
    "    # add the ideal gas contribution\n",
    "    ig = RGAS * temperature\n",
    "    for i in range(equation_of_state.n):\n",
    "        M[i,i] += ig\n",
    "    \n",
    "    # calculate the smallest eigenvalue and the corresponding eigenvector\n",
    "    l, u = eig(M)\n",
    "    i = np.argmin(l)\n",
    "    l = l[i]\n",
    "    u = u[:,i]\n",
    "    \n",
    "    # calculate the second criticality condition\n",
    "    s = derive3(0)\n",
    "    n = moles + u * s * np.sqrt(moles)\n",
    "    ig = -RGAS * temperature * sum(u**3/np.sqrt(moles))\n",
    "    return [l, equation_of_state.helmholtz_energy(temperature, total_moles/density, n).third_derivative + ig]"
   ]
  },
  {
   "cell_type": "markdown",
   "metadata": {},
   "source": [
    "### Validation: Compare computed critical pressure and temperature with input parameters <a class=\"anchor\" id=\"cp_validation\"></a>\n",
    "[↑ back to Contents](#toc)\n",
    "\n",
    "As a validation, we can compute the critical temperature and pressure for a pure substance and compare the results to the substance's parameters, which are the critical properties, $T_c$ and $p_c$."
   ]
  },
  {
   "cell_type": "code",
   "execution_count": 43,
   "metadata": {},
   "outputs": [
    {
     "name": "stdout",
     "output_type": "stream",
     "text": [
      "Comparison between input parameters and critical properties via Heidemann, Kalil and Michelsen method.\n",
      "rel. dev. of critical temperature : 0.0024 / %\n",
      "rel. dev. of critical pressure    : 0.0075 / %\n"
     ]
    }
   ],
   "source": [
    "# create equation of state\n",
    "tc = np.array([523.0])\n",
    "pc = np.array([25.0])\n",
    "omega = np.array([0.2])\n",
    "pr = PengRobinson(tc, pc, omega)\n",
    "\n",
    "tc_calc, densityc_calc = critical_point(pr, 450, 2500, [1.0])\n",
    "pc_calc = pr.pressure(tc_calc, 1.0 / densityc_calc, np.array([1.0]))\n",
    "print(\"Comparison between input parameters and critical properties via Heidemann, Kalil and Michelsen method.\")\n",
    "print(f\"rel. dev. of critical temperature : {np.abs(tc[0] - tc_calc) / tc[0] * 100:.2g} / %\")\n",
    "print(f\"rel. dev. of critical pressure    : {np.abs(pc[0] - pc_calc / 1e5) / pc[0] * 100:.2g} / %\")"
   ]
  },
  {
   "cell_type": "markdown",
   "metadata": {},
   "source": [
    "### Critical Temperature for Binary Mixture <a class=\"anchor\" id=\"cp_binary\"></a>\n",
    "[↑ back to Contents](#toc)\n",
    "\n",
    "Below we compute the critical locus of a binary mixture described by the Peng-Robinson equation of state for 101 mole fractions. The plot shows how the critical temperature of the mixture changes with the mole fraction of component 1."
   ]
  },
  {
   "cell_type": "code",
   "execution_count": 7,
   "metadata": {},
   "outputs": [
    {
     "name": "stdout",
     "output_type": "stream",
     "text": [
      "CPU times: user 616 ms, sys: 17.2 ms, total: 633 ms\n",
      "Wall time: 614 ms\n"
     ]
    }
   ],
   "source": [
    "%%time\n",
    "tc_mix = np.array([523.0, 420.])\n",
    "pc_mix = np.array([25.0, 69.0])\n",
    "omega_mix = np.array([0.2, 0.1])\n",
    "\n",
    "pr_mix = PengRobinson(tc_mix, pc_mix, omega_mix)\n",
    "\n",
    "x = np.linspace(1e-5, 1-1e-5, 101)\n",
    "tc_vec = []\n",
    "for xi in x:\n",
    "    tc, _ = critical_point(pr_mix, 450, 2500, [xi, 1-xi])\n",
    "    tc_vec.append(tc)"
   ]
  },
  {
   "cell_type": "code",
   "execution_count": 8,
   "metadata": {},
   "outputs": [
    {
     "data": {
      "image/png": "[encoded data removed]",
      "text/plain": [
       "<Figure size 864x504 with 1 Axes>"
      ]
     },
     "metadata": {},
     "output_type": "display_data"
    }
   ],
   "source": [
    "fig, ax = plt.subplots(figsize=(12, 7))\n",
    "ax.plot(x, tc_vec)\n",
    "ax.set_xlim(0,1)\n",
    "ax.set_xlabel(r\"$x_1$\")\n",
    "ax.set_ylabel(r\"$T_c~~/~~$K\");"
   ]
  },
  {
   "cell_type": "markdown",
   "metadata": {},
   "source": [
    "## Comparison to Numerical Derivatives <a class=\"anchor\" id=\"comparison\"></a>\n",
    "[↑ back to Contents](#toc)\n",
    "\n",
    "The `derive` function sets the dual part of the argument to 1. Instead of 1 an arbitrary step size could be used without any effect on the result of the calculation. This is in contrast to numerical differentiation where an optimal step size has to be identified for every situation. To demonstrate this, the error in the derivative from dual numbers is calculated for different step sizes and compared to forward differences, central differences, and [complex step differentiation](https://blogs.mathworks.com/cleve/2013/10/14/complex-step-differentiation/), with the analytical expression for the pressure of the Peng-Robinson equation of state as reference."
   ]
  },
  {
   "cell_type": "code",
   "execution_count": 9,
   "metadata": {},
   "outputs": [],
   "source": [
    "from functools import partial\n",
    "import matplotlib.pyplot as plt\n",
    "\n",
    "def dual_derivative(equation_of_state, t, v, n, h, prop):\n",
    "    if prop == \"temperature\":\n",
    "        f = partial(equation_of_state.helmholtz_energy, volume=v, moles=n)\n",
    "        arg = t\n",
    "    elif prop == \"volume\":\n",
    "        f = partial(equation_of_state.helmholtz_energy, temperature=t, moles=n)\n",
    "        arg = v\n",
    "    elif prop == \"moles\":\n",
    "        f = partial(equation_of_state.helmholtz_energy, volume=v, temperature=t)\n",
    "        arg = n\n",
    "    \n",
    "    first_derivative = f(**{prop: Dual64(arg, h)}).first_derivative / h\n",
    "    second_derivative = f(**{prop: Dual2_64(arg, h, 0)}).second_derivative / h**2\n",
    "    return first_derivative, second_derivative\n",
    "\n",
    "def forward_difference(equation_of_state, t, v, n, h, prop):\n",
    "    if prop == \"temperature\":\n",
    "        f = partial(equation_of_state.helmholtz_energy, volume=v, moles=n)\n",
    "        arg = t\n",
    "    elif prop == \"volume\":\n",
    "        f = partial(equation_of_state.helmholtz_energy, temperature=t, moles=n)\n",
    "        arg = v\n",
    "    elif prop == \"moles\":\n",
    "        f = partial(equation_of_state.helmholtz_energy, volume=v, temperature=t)\n",
    "        arg = n\n",
    "    \n",
    "    first_derivative = (f(**{prop: arg + h}) - f(**{prop: arg})) / h\n",
    "    return first_derivative\n",
    "\n",
    "def central_difference(equation_of_state, t, v, n, h, prop):\n",
    "    if prop == \"temperature\":\n",
    "        f = partial(equation_of_state.helmholtz_energy, volume=v, moles=n)\n",
    "        arg = t\n",
    "    elif prop == \"volume\":\n",
    "        f = partial(equation_of_state.helmholtz_energy, temperature=t, moles=n)\n",
    "        arg = v\n",
    "    elif prop == \"moles\":\n",
    "        f = partial(equation_of_state.helmholtz_energy, volume=v, temperature=t)\n",
    "        arg = n\n",
    "    \n",
    "    first_derivative = (f(**{prop: arg + h}) - f(**{prop: arg - h})) / (2*h)\n",
    "    second_derivative = (f(**{prop: arg + h}) - 2*f(**{prop: arg}) + f(**{prop: arg - h})) / h**2\n",
    "    return first_derivative, second_derivative\n",
    "\n",
    "def complex_step(equation_of_state, t, v, n, h, prop):\n",
    "    if prop == \"temperature\":\n",
    "        f = partial(equation_of_state.helmholtz_energy, volume=v, moles=n)\n",
    "        arg = t\n",
    "    elif prop == \"volume\":\n",
    "        f = partial(equation_of_state.helmholtz_energy, temperature=t, moles=n)\n",
    "        arg = v\n",
    "    elif prop == \"moles\":\n",
    "        f = partial(equation_of_state.helmholtz_energy, volume=v, temperature=t)\n",
    "        arg = n\n",
    "    \n",
    "    first_derivative = f(**{prop: arg + h*1j}).imag / h\n",
    "    return first_derivative"
   ]
  },
  {
   "cell_type": "markdown",
   "metadata": {},
   "source": [
    "### First derivatives <a class=\"anchor\" id=\"1st_derivatives\"></a>\n",
    "[↑ back to Contents](#toc)\n",
    "\n",
    "In the example below, for first derivatives, forward and central differences show a minimum error at $h\\approx 1e-10$ and $h\\approx 1e-7$ respectively. At the optimal value, the errors are significantly larger than machine precision, particularly for forward differences. Complex step differentiation reaches machine precision as long as the step width is below a certain threshold. In opposition to that, automatic differentiation using dual numbers returns the exact values within machine precision for any step size."
   ]
  },
  {
   "cell_type": "code",
   "execution_count": 10,
   "metadata": {},
   "outputs": [],
   "source": [
    "def rel_dev(x, ref):\n",
    "    return np.abs(ref - x) / ref * 100\n",
    "\n",
    "ref = pr.pressure(t, v, n)\n",
    "\n",
    "hs = np.logspace(-18, -3, 500)\n",
    "d_dd = []\n",
    "d_fd = []\n",
    "d_cd = []\n",
    "d_cs = []\n",
    "for h in hs:\n",
    "    dd, _ = dual_derivative(pr, t, v, n, h, \"volume\")\n",
    "    fd = forward_difference(pr, t, v, n, h, \"volume\")\n",
    "    cd, _ = central_difference(pr, t, v, n, h, \"volume\")\n",
    "    cs = complex_step(pr, t, v, n ,h, \"volume\")\n",
    "    d_dd.append(rel_dev(-dd + ideal_gas_pressure, ref))\n",
    "    d_fd.append(rel_dev(-fd + ideal_gas_pressure, ref))\n",
    "    d_cd.append(rel_dev(-cd + ideal_gas_pressure, ref))\n",
    "    d_cs.append(rel_dev(-cs + ideal_gas_pressure, ref))"
   ]
  },
  {
   "cell_type": "code",
   "execution_count": 11,
   "metadata": {},
   "outputs": [
    {
     "data": {
      "image/png": "[encoded data removed]",
      "text/plain": [
       "<Figure size 864x432 with 1 Axes>"
      ]
     },
     "metadata": {},
     "output_type": "display_data"
    }
   ],
   "source": [
    "fig, ax = plt.subplots(figsize=(12, 6))\n",
    "plt.loglog(hs, d_dd, \"-\", label=\"Dual numbers\")\n",
    "plt.loglog(hs, d_fd, \"-\", label=\"Forward differences\")\n",
    "plt.loglog(hs, d_cd, \"-\", label=\"Central differences\")\n",
    "plt.loglog(hs, d_cs, \"-\", label=\"Complex step\")\n",
    "plt.hlines(0.0, hs[0]-1, hs[-1]+1, linestyle=\"--\", alpha=0.5)\n",
    "plt.xlabel(r\"$h$ / m$^3$\");\n",
    "plt.ylabel(\"rel. dev. / \\%\");\n",
    "plt.title(\"Comparison of different methods for the calculation of first derivatives.\")\n",
    "plt.legend(frameon=False);"
   ]
  },
  {
   "cell_type": "markdown",
   "metadata": {},
   "source": [
    "### Second derivatives <a class=\"anchor\" id=\"2nd_derivatives\"></a>\n",
    "[↑ back to Contents](#toc)\n",
    "\n",
    "Complex step differentiation in its normal definition is only able to calculate first derivatives. For higher order derivatives, multicomplex numbers are required that are rarely implemented in existing frameworks. An implementation of multicomplex numbers specifically for the application of numeric derivatives is futile as there is no advantage over the usage of higher order dual numbers.\n",
    "\n",
    "Comparing the error obtained using central differences to dual numbers, again shows that the optimal step size for central differences still results in an error several orders of magnitude above machine precision."
   ]
  },
  {
   "cell_type": "code",
   "execution_count": 12,
   "metadata": {},
   "outputs": [],
   "source": [
    "def rel_dev(x, ref):\n",
    "    return np.abs(ref - x) / ref * 100\n",
    "\n",
    "ideal_gas_dp_dv = -ideal_gas_pressure/v\n",
    "\n",
    "hs = np.logspace(-10, -3, 500)\n",
    "d_dd2 = []\n",
    "d_cd2 = []\n",
    "for h in hs:\n",
    "    ref = pr.dp_dv(t, v, n)\n",
    "    _, dd2 = dual_derivative(pr, t, v, n, h, \"volume\")\n",
    "    _, cd2 = central_difference(pr, t, v, n, h, \"volume\")\n",
    "    d_dd2.append(rel_dev(-dd2 + ideal_gas_dp_dv, ref))\n",
    "    d_cd2.append(rel_dev(-cd2 + ideal_gas_dp_dv, ref))"
   ]
  },
  {
   "cell_type": "code",
   "execution_count": 13,
   "metadata": {},
   "outputs": [
    {
     "data": {
      "image/png": "[encoded data removed]",
      "text/plain": [
       "<Figure size 864x432 with 1 Axes>"
      ]
     },
     "metadata": {},
     "output_type": "display_data"
    }
   ],
   "source": [
    "fig, ax = plt.subplots(figsize=(12, 6))\n",
    "plt.loglog(hs, d_dd2, \"-\", label=\"Dual numbers\")\n",
    "plt.loglog(hs, d_cd2, \"-\", label=\"Central differences\")\n",
    "plt.hlines(0.0, hs[0]-1, hs[-1]+1, linestyle=\"--\", alpha=0.5)\n",
    "plt.xlabel(r\"$h$ / m$^3$\");\n",
    "plt.ylabel(\"rel. dev. / \\%\");\n",
    "plt.title(\"Comparison of different methods for the calculation of second derivatives.\")\n",
    "plt.legend(frameon=False);"
   ]
  },
  {
   "cell_type": "markdown",
   "metadata": {},
   "source": [
    "## Performance <a class=\"anchor\" id=\"performance\"></a>\n",
    "[↑ back to Contents](#toc)\n",
    "\n",
    "The examples below are meant to illustrate, that using dual numbers to calculate derivatives performes comparably to the less accurate forward or central differences.\n",
    "\n",
    "The Python bindings are written with the focus on convenienve. As shown above, it is possible to call the same python function with different combinations of dual numbers or floats. This can only be achieved by dynamically checking the input types of every operator and calling the appropriate function in the underlying Rust library. If performance is critical to the application, the computation time can be decreased by up to several orders of magnitude by implementing and compiling the model in Rust."
   ]
  },
  {
   "cell_type": "markdown",
   "metadata": {},
   "source": [
    "#### First derivative: analytical, central difference, dual number"
   ]
  },
  {
   "cell_type": "code",
   "execution_count": 14,
   "metadata": {},
   "outputs": [],
   "source": [
    "# thermodynamic state\n",
    "t = 300.0\n",
    "v = 3e-3\n",
    "n = np.array([1.0])\n",
    "\n",
    "# step width for volume\n",
    "h = 1e-10\n",
    "frac_2h = 1 / (2 * h)"
   ]
  },
  {
   "cell_type": "code",
   "execution_count": 15,
   "metadata": {},
   "outputs": [
    {
     "name": "stdout",
     "output_type": "stream",
     "text": [
      "14.1 µs ± 525 ns per loop (mean ± std. dev. of 7 runs, 100000 loops each)\n"
     ]
    }
   ],
   "source": [
    "%%timeit\n",
    "_ = pr.pressure(t, v, n)"
   ]
  },
  {
   "cell_type": "code",
   "execution_count": 16,
   "metadata": {},
   "outputs": [
    {
     "name": "stdout",
     "output_type": "stream",
     "text": [
      "35 µs ± 1.64 µs per loop (mean ± std. dev. of 7 runs, 10000 loops each)\n"
     ]
    }
   ],
   "source": [
    "%%timeit\n",
    "_ = (pr.helmholtz_energy(t, v + h, n) - pr.helmholtz_energy(t, v - h, n)) * frac_2h"
   ]
  },
  {
   "cell_type": "code",
   "execution_count": 17,
   "metadata": {},
   "outputs": [
    {
     "name": "stdout",
     "output_type": "stream",
     "text": [
      "46.9 µs ± 2.09 µs per loop (mean ± std. dev. of 7 runs, 10000 loops each)\n"
     ]
    }
   ],
   "source": [
    "%%timeit\n",
    "_ = pr.helmholtz_energy(t, derive1(v), n).first_derivative"
   ]
  },
  {
   "cell_type": "markdown",
   "metadata": {},
   "source": [
    "#### Second derivative: analytical, central difference, dual number"
   ]
  },
  {
   "cell_type": "code",
   "execution_count": 18,
   "metadata": {},
   "outputs": [],
   "source": [
    "h = 1e-7\n",
    "frac_h2 = 1 / (h * h)"
   ]
  },
  {
   "cell_type": "code",
   "execution_count": 19,
   "metadata": {},
   "outputs": [
    {
     "name": "stdout",
     "output_type": "stream",
     "text": [
      "14.7 µs ± 199 ns per loop (mean ± std. dev. of 7 runs, 100000 loops each)\n"
     ]
    }
   ],
   "source": [
    "%%timeit\n",
    "_ = pr.dp_dv(t, v, n)"
   ]
  },
  {
   "cell_type": "code",
   "execution_count": 20,
   "metadata": {},
   "outputs": [
    {
     "name": "stdout",
     "output_type": "stream",
     "text": [
      "51.8 µs ± 1.55 µs per loop (mean ± std. dev. of 7 runs, 10000 loops each)\n"
     ]
    }
   ],
   "source": [
    "%%timeit\n",
    "_ = (pr.helmholtz_energy(t, v + h, n) - 2*pr.helmholtz_energy(t, v, n) + pr.helmholtz_energy(t, v - h, n)) * frac_h2"
   ]
  },
  {
   "cell_type": "code",
   "execution_count": 21,
   "metadata": {},
   "outputs": [
    {
     "name": "stdout",
     "output_type": "stream",
     "text": [
      "45.7 µs ± 3.06 µs per loop (mean ± std. dev. of 7 runs, 10000 loops each)\n"
     ]
    }
   ],
   "source": [
    "%%timeit\n",
    "_ = pr.helmholtz_energy(t, derive2(v), n).second_derivative"
   ]
  },
  {
   "cell_type": "markdown",
   "metadata": {},
   "source": [
    "#### Helmholtz energy and derivatives\n",
    "\n",
    "If an algorithm can be written in terms of the helmholtz and its derivatives (for example within a density iteration routine where a Newton scheme can be used where the gradient and second derivatives w.r.t volume are needed), generalized dual numbers have no disadvantages when compared to *the analytical implementation*. "
   ]
  },
  {
   "cell_type": "code",
   "execution_count": 22,
   "metadata": {},
   "outputs": [
    {
     "name": "stdout",
     "output_type": "stream",
     "text": [
      "44.4 µs ± 1.19 µs per loop (mean ± std. dev. of 7 runs, 10000 loops each)\n"
     ]
    }
   ],
   "source": [
    "%%timeit\n",
    "_ = pr.helmholtz_energy(t, derive2(v), n) # computes helmholtz energy (.value), first and second derivative w.r.t volume"
   ]
  },
  {
   "cell_type": "code",
   "execution_count": 23,
   "metadata": {},
   "outputs": [
    {
     "name": "stdout",
     "output_type": "stream",
     "text": [
      "45 µs ± 987 ns per loop (mean ± std. dev. of 7 runs, 10000 loops each)\n"
     ]
    }
   ],
   "source": [
    "%%timeit\n",
    "_ = pr.helmholtz_energy(t, v, n)\n",
    "_ = pr.pressure(t, v, n)\n",
    "_ = pr.dp_dv(t, v, n)"
   ]
  }
 ],
 "metadata": {
  "kernelspec": {
   "display_name": "Python 3",
   "language": "python",
   "name": "python3"
  },
  "language_info": {
   "codemirror_mode": {
    "name": "ipython",
    "version": 3
   },
   "file_extension": ".py",
   "mimetype": "text/x-python",
   "name": "python",
   "nbconvert_exporter": "python",
   "pygments_lexer": "ipython3",
   "version": "3.8.1"
  }
 },
 "nbformat": 4,
 "nbformat_minor": 4
}
